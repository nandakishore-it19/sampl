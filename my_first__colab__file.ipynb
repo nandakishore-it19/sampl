{
  "nbformat": 4,
  "nbformat_minor": 0,
  "metadata": {
    "colab": {
      "name": "my_first_ colab_ file.ipynb",
      "provenance": [],
      "authorship_tag": "ABX9TyPUPQCDer4YGSziINHw7SoW",
      "include_colab_link": true
    },
    "kernelspec": {
      "name": "python3",
      "display_name": "Python 3"
    },
    "accelerator": "GPU"
  },
  "cells": [
    {
      "cell_type": "markdown",
      "metadata": {
        "id": "view-in-github",
        "colab_type": "text"
      },
      "source": [
        "<a href=\"https://colab.research.google.com/github/nandakishore-it19/sampl/blob/main/my_first__colab__file.ipynb\" target=\"_parent\"><img src=\"https://colab.research.google.com/assets/colab-badge.svg\" alt=\"Open In Colab\"/></a>"
      ]
    },
    {
      "cell_type": "code",
      "metadata": {
        "colab": {
          "base_uri": "https://localhost:8080/"
        },
        "id": "KrMQn8-xpgti",
        "outputId": "bc0a65a1-0f89-4806-8f9d-0f170849a3ac"
      },
      "source": [
        "print(\"hai\")"
      ],
      "execution_count": 2,
      "outputs": [
        {
          "output_type": "stream",
          "text": [
            "hai\n"
          ],
          "name": "stdout"
        }
      ]
    },
    {
      "cell_type": "code",
      "metadata": {
        "colab": {
          "base_uri": "https://localhost:8080/"
        },
        "id": "DroIGa62sM3g",
        "outputId": "b5019886-ebc1-4802-a087-ba8830279be2"
      },
      "source": [
        "import time\r\n",
        "print(time.ctime())"
      ],
      "execution_count": 3,
      "outputs": [
        {
          "output_type": "stream",
          "text": [
            "Wed Feb 17 15:58:45 2021\n"
          ],
          "name": "stdout"
        }
      ]
    },
    {
      "cell_type": "code",
      "metadata": {
        "id": "jC7R_2OrtlHL"
      },
      "source": [
        "time.sleep(5)"
      ],
      "execution_count": 4,
      "outputs": []
    },
    {
      "cell_type": "code",
      "metadata": {
        "colab": {
          "base_uri": "https://localhost:8080/"
        },
        "id": "yBOT4Q3MuCLp",
        "outputId": "0058a5da-211f-4d8c-cc05-e315f1fdd87c"
      },
      "source": [
        "print(time.ctime())"
      ],
      "execution_count": 5,
      "outputs": [
        {
          "output_type": "stream",
          "text": [
            "Wed Feb 17 16:00:15 2021\n"
          ],
          "name": "stdout"
        }
      ]
    },
    {
      "cell_type": "code",
      "metadata": {
        "id": "QKOsx0XguHep"
      },
      "source": [
        ""
      ],
      "execution_count": 5,
      "outputs": []
    },
    {
      "cell_type": "markdown",
      "metadata": {
        "id": "4aYuAQl8wGS3"
      },
      "source": [
        "This is **bold text**\r\n",
        "\r\n",
        "This is *italicized text*\r\n",
        "\r\n",
        "This ~stricke~"
      ]
    },
    {
      "cell_type": "markdown",
      "metadata": {
        "id": "FSTP7_Exw8xW"
      },
      "source": [
        "# **Maths** **Equation**"
      ]
    },
    {
      "cell_type": "markdown",
      "metadata": {
        "id": "LGW9SrjixMkE"
      },
      "source": [
        "$\\sqrt(3x-1)+(1+x)^5$\r\n",
        "\r\n",
        "$e^x=\\sum_{1=0}^\\infty\\frac{1}{1!}x^i$\r\n",
        "\r\n",
        "$3x_1$"
      ]
    },
    {
      "cell_type": "code",
      "metadata": {
        "id": "g0xhhjP4wzGz"
      },
      "source": [
        ""
      ],
      "execution_count": null,
      "outputs": []
    }
  ]
}